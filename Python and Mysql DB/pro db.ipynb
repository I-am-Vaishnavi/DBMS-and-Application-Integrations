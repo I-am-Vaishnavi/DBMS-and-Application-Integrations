{
 "cells": [
  {
   "cell_type": "code",
   "execution_count": 62,
   "metadata": {},
   "outputs": [],
   "source": [
    "import mysql.connector\n",
    "\n",
    "mydb = mysql.connector.connect(\n",
    "  host=\"localhost\",\n",
    "  user=\"root\",\n",
    "  password=\"\"\n",
    ")\n",
    "\n",
    "mycursor = mydb.cursor()\n",
    "#database\n",
    "mycursor.execute(\"CREATE DATABASE university\")"
   ]
  },
  {
   "cell_type": "code",
   "execution_count": 63,
   "metadata": {},
   "outputs": [],
   "source": [
    "import mysql.connector\n",
    "mydb = mysql.connector.connect(\n",
    "  host=\"localhost\",\n",
    "  user=\"root\",\n",
    "  password=\"\",\n",
    "  database=\"university\"\n",
    ")\n",
    "\n",
    "mycursor = mydb.cursor()\n",
    "#creation of table\n",
    "mycursor.execute(\"CREATE TABLE `book`( `id` INT(10) NOT NULL , `Name` VARCHAR(50) NOT NULL , `price` INT(25) NOT NULL , PRIMARY KEY (`id`))\")"
   ]
  },
  {
   "cell_type": "code",
   "execution_count": 64,
   "metadata": {},
   "outputs": [
    {
     "name": "stdout",
     "output_type": "stream",
     "text": [
      "1 record inserted.\n"
     ]
    }
   ],
   "source": [
    "#insertion\n",
    "mycursor.execute(\"INSERT INTO `book` (`id`, `Name`, `price`) VALUES ('100', 'Harry Potter and the Sorcerer’s Stone', '2000')\")\n",
    "#mycursor.execute(\"INSERT INTO `book` (`id`, `Name`, `price`) VALUES ('101', 'Island of the Blue Dolphins', '1500')\")\n",
    "#mycursor.execute(\"INSERT INTO `book` (`id`, `Name`, `price`) VALUES ('112', 'julius caeser’s ', '2500')\")\n",
    "#mycursor.execute(\"INSERT INTO `book` (`id`, `Name`, `price`) VALUES ('104', 'The final problem', '3000')\")\n",
    "#mycursor.execute(\"INSERT INTO `book` (`id`, `Name`, `price`) VALUES ('120', 'Harry Potter and the Prisoner of Azkaban', '1200')\")\n",
    "#mycursor.execute(\"INSERT INTO `book` (`id`, `Name`, `price`) VALUES ('102', 'Harry Potter and the Order of the phoenix', '2300')\")\n",
    "mydb.commit()\n",
    "print(mycursor.rowcount, \"record inserted.\")"
   ]
  },
  {
   "cell_type": "code",
   "execution_count": 66,
   "metadata": {},
   "outputs": [
    {
     "name": "stdout",
     "output_type": "stream",
     "text": [
      "5 record(s) inserted.\n"
     ]
    }
   ],
   "source": [
    "sql = \"INSERT INTO book (id,name,price) VALUES (%s, %s,%s)\"\n",
    "val = [\n",
    "    (\"101\", \"Island of the Blue Dolphins\", \"1500\"),\n",
    "    (\"112\", \"julius caeser’s \", \"2500\"),\n",
    "    (\"104\", \"The final problem\", \"3000\"),\n",
    "    (\"120\", \"Harry Potter and the Prisoner of Azkaban\", \"1200\"),\n",
    "    (\"102\", \"Harry Potter and the Order of the phoenix\", \"2300\")\n",
    "]\n",
    "mycursor.executemany(sql, val)\n",
    "mydb.commit()\n",
    "print(mycursor.rowcount, \"record(s) inserted.\")"
   ]
  },
  {
   "cell_type": "code",
   "execution_count": 67,
   "metadata": {},
   "outputs": [
    {
     "name": "stdout",
     "output_type": "stream",
     "text": [
      "(100, 'Harry Potter and the Sorcerer’s Stone', 2000)\n",
      "(101, 'Island of the Blue Dolphins', 1500)\n",
      "(112, 'julius caeser’s ', 2500)\n",
      "(104, 'The final problem', 3000)\n",
      "(120, 'Harry Potter and the Prisoner of Azkaban', 1200)\n",
      "(102, 'Harry Potter and the Order of the phoenix', 2300)\n"
     ]
    }
   ],
   "source": [
    "#display\n",
    "mycursor.execute(\"SELECT * FROM book\")\n",
    "\n",
    "myresult = mycursor.fetchall()\n",
    "\n",
    "for x in myresult:\n",
    "  print(x)"
   ]
  },
  {
   "cell_type": "code",
   "execution_count": 68,
   "metadata": {},
   "outputs": [
    {
     "name": "stdout",
     "output_type": "stream",
     "text": [
      "(100, 'Harry Potter and the Sorcerer’s Stone', 2000)\n",
      "(101, 'Island of the Blue Dolphins', 1500)\n",
      "(102, 'Harry Potter and the Order of the phoenix', 2300)\n",
      "(104, 'The final problem', 3000)\n",
      "(112, 'julius caeser’s ', 2500)\n",
      "(120, 'Harry Potter and the Prisoner of Azkaban', 1200)\n"
     ]
    }
   ],
   "source": [
    "#order\n",
    "mycursor.execute(\"SELECT * FROM book ORDER BY id \")\n",
    "myresult = mycursor.fetchall()\n",
    "\n",
    "for x in myresult:\n",
    "  print(x)"
   ]
  },
  {
   "cell_type": "code",
   "execution_count": 69,
   "metadata": {},
   "outputs": [
    {
     "name": "stdout",
     "output_type": "stream",
     "text": [
      "(100, 'Harry Potter and the Sorcerer’s Stone', 2000)\n"
     ]
    }
   ],
   "source": [
    "#search\n",
    "mycursor.execute(\"SELECT * FROM book WHERE id ='100'\")\n",
    "myresult = mycursor.fetchall()\n",
    "for x in myresult:\n",
    "  print(x)\n"
   ]
  },
  {
   "cell_type": "code",
   "execution_count": 70,
   "metadata": {},
   "outputs": [],
   "source": [
    "#delete\n",
    "mycursor.execute(\"DELETE FROM book WHERE price = '3000'\")\n"
   ]
  },
  {
   "cell_type": "code",
   "execution_count": 71,
   "metadata": {},
   "outputs": [
    {
     "name": "stdout",
     "output_type": "stream",
     "text": [
      "(100, 'Harry Potter and the Sorcerer’s Stone', 2000)\n",
      "(101, 'Island of the Blue Dolphins', 1500)\n",
      "(112, 'julius caeser’s ', 2500)\n",
      "(120, 'Harry Potter and the Prisoner of Azkaban', 1200)\n",
      "(102, 'Harry Potter and the Order of the phoenix', 2300)\n"
     ]
    }
   ],
   "source": [
    "mycursor.execute(\"SELECT * FROM book\")\n",
    "\n",
    "myresult = mycursor.fetchall()\n",
    "\n",
    "for x in myresult:\n",
    "  print(x)"
   ]
  },
  {
   "cell_type": "code",
   "execution_count": 72,
   "metadata": {},
   "outputs": [],
   "source": [
    "mycursor.execute(\"UPDATE book SET price = '3000' WHERE id = '100'\")"
   ]
  },
  {
   "cell_type": "code",
   "execution_count": 73,
   "metadata": {},
   "outputs": [
    {
     "name": "stdout",
     "output_type": "stream",
     "text": [
      "(100, 'Harry Potter and the Sorcerer’s Stone', 3000)\n",
      "(101, 'Island of the Blue Dolphins', 1500)\n",
      "(112, 'julius caeser’s ', 2500)\n",
      "(120, 'Harry Potter and the Prisoner of Azkaban', 1200)\n",
      "(102, 'Harry Potter and the Order of the phoenix', 2300)\n"
     ]
    }
   ],
   "source": [
    "mycursor.execute(\"SELECT * FROM book\")\n",
    "\n",
    "myresult = mycursor.fetchall()\n",
    "\n",
    "for x in myresult:\n",
    "  print(x)"
   ]
  },
  {
   "cell_type": "code",
   "execution_count": 74,
   "metadata": {},
   "outputs": [],
   "source": [
    "#mycursor.execute(\"DROP TABLE book\")"
   ]
  },
  {
   "cell_type": "code",
   "execution_count": 75,
   "metadata": {},
   "outputs": [
    {
     "name": "stdout",
     "output_type": "stream",
     "text": [
      "('book',)\n",
      "('student',)\n"
     ]
    }
   ],
   "source": [
    "mycursor.execute(\"SHOW TABLES\")\n",
    "\n",
    "for x in mycursor:\n",
    "  print(x)"
   ]
  },
  {
   "cell_type": "code",
   "execution_count": null,
   "metadata": {},
   "outputs": [],
   "source": []
  }
 ],
 "metadata": {
  "kernelspec": {
   "display_name": "Python 3",
   "language": "python",
   "name": "python3"
  },
  "language_info": {
   "codemirror_mode": {
    "name": "ipython",
    "version": 3
   },
   "file_extension": ".py",
   "mimetype": "text/x-python",
   "name": "python",
   "nbconvert_exporter": "python",
   "pygments_lexer": "ipython3",
   "version": "3.8.5"
  }
 },
 "nbformat": 4,
 "nbformat_minor": 4
}
